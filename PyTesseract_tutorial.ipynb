{
 "cells": [
  {
   "cell_type": "markdown",
   "id": "structural-yahoo",
   "metadata": {},
   "source": [
    "First you need to install the tesseract-ocr.exe file which is available at https://github.com/ub-mannheim/tesseract/wiki and make sure that you remember the path where you install it. \n",
    "Then we install the required libraries i.e. opencv-python and pytesseract.\n",
    "Import pytesseract, and don't forget to set the tesseract.exe file's path where you have installed it. This is very important, otherwise pytesseract will not be imported."
   ]
  },
  {
   "cell_type": "code",
   "execution_count": 1,
   "id": "hungry-cursor",
   "metadata": {},
   "outputs": [],
   "source": [
    "import pytesseract\n",
    "pytesseract.pytesseract.tesseract_cmd = r\"C:\\Program Files\\Tesseract-OCR\\tesseract.exe\""
   ]
  },
  {
   "cell_type": "markdown",
   "id": "vocal-basin",
   "metadata": {},
   "source": [
    "Import cv2 library."
   ]
  },
  {
   "cell_type": "code",
   "execution_count": 2,
   "id": "beginning-basis",
   "metadata": {},
   "outputs": [],
   "source": [
    "import cv2"
   ]
  },
  {
   "cell_type": "markdown",
   "id": "explicit-animation",
   "metadata": {},
   "source": [
    "Declare a variable to store the image in it with help of cv2 library. \n",
    "We can visualize the image. But it automatically closes within fraction of second.\n",
    "We can add waitkey, so that image will not be closed untill we press key.\n",
    "And we can kill the image after entering the key."
   ]
  },
  {
   "cell_type": "code",
   "execution_count": 4,
   "id": "resistant-identity",
   "metadata": {},
   "outputs": [],
   "source": [
    "img1 = cv2.imread(\"1.png\")\n",
    "cv2.imshow(\"first image\", img1)\n",
    "cv2.waitKey(0)\n",
    "cv2.destroyAllWindows()"
   ]
  },
  {
   "cell_type": "markdown",
   "id": "aquatic-disposal",
   "metadata": {},
   "source": [
    "Now we can take out the text form the image with pytesseract.image_to_string"
   ]
  },
  {
   "cell_type": "code",
   "execution_count": 5,
   "id": "growing-ready",
   "metadata": {},
   "outputs": [
    {
     "name": "stdout",
     "output_type": "stream",
     "text": [
      "Client Offline\n",
      "\n",
      "This desk is not available.\n",
      "\n",
      "Please make sure that AnyDesk is running on the remote\n",
      "computer and it is connected to the internet.\n",
      "\n",
      " \n",
      "\f",
      "\n"
     ]
    }
   ],
   "source": [
    "text1 = pytesseract.image_to_string(img1)\n",
    "print(text1)"
   ]
  },
  {
   "cell_type": "code",
   "execution_count": 6,
   "id": "japanese-chemistry",
   "metadata": {},
   "outputs": [
    {
     "name": "stdout",
     "output_type": "stream",
     "text": [
      "DON T\n",
      "STOP\n",
      "UNTIL\n",
      "YOURE\n",
      "PROUD\n",
      "\f",
      "\n"
     ]
    }
   ],
   "source": [
    "img2 = cv2.imread(\"2.png\")\n",
    "cv2.imshow(\"first image\", img2)\n",
    "cv2.waitKey(0)\n",
    "cv2.destroyAllWindows()\n",
    "\n",
    "text2 = pytesseract.image_to_string(img2)\n",
    "print(text2)"
   ]
  },
  {
   "cell_type": "code",
   "execution_count": 9,
   "id": "decimal-correspondence",
   "metadata": {},
   "outputs": [
    {
     "name": "stdout",
     "output_type": "stream",
     "text": [
      "Vole te Self.\n",
      "\n",
      "YOU CAN’T CONTROL HOW OTHER\n",
      "PEOPLE RECEIVE YOUR ENERGY.\n",
      "ANYTHING YOU DO OR SAY GETS\n",
      "FILTERED THROUGH THE LENS OF\n",
      "WHATEVER PERSONAL SHIT THEY\n",
      "\n",
      "ARE GOING THROUGH AT THE\n",
      "MOMENT. WHICH IS NOT ABOUT YOU.\n",
      "JUST KEEP DOING YOUR THING WITH AS\n",
      "\n",
      "MUCH INTEGRITY AND LOVE AS POSSIBLE.\n",
      "\n",
      "POSITIFITY.COM\n",
      "\f",
      "\n"
     ]
    }
   ],
   "source": [
    "img3 = cv2.imread(\"3.png\")\n",
    "cv2.imshow(\"first image\", img3)\n",
    "cv2.waitKey(0)\n",
    "cv2.destroyAllWindows()\n",
    "\n",
    "text3 = pytesseract.image_to_string(img3)\n",
    "print(text3)"
   ]
  },
  {
   "cell_type": "code",
   "execution_count": 10,
   "id": "clinical-technique",
   "metadata": {},
   "outputs": [
    {
     "name": "stdout",
     "output_type": "stream",
     "text": [
      "with no expectation of reward, safe in the\n",
      "knowledge that one day someone might\n",
      "do the same for you.\n",
      "\n",
      "-Princess Diana\n",
      "\n",
      " \n",
      "\f",
      "\n"
     ]
    }
   ],
   "source": [
    "img4 = cv2.imread(\"4.png\")\n",
    "cv2.imshow(\"first image\", img4)\n",
    "cv2.waitKey(0)\n",
    "cv2.destroyAllWindows()\n",
    "\n",
    "text4 = pytesseract.image_to_string(img4)\n",
    "print(text4)"
   ]
  },
  {
   "cell_type": "markdown",
   "id": "strong-conditions",
   "metadata": {},
   "source": [
    "### Lets try it on a meme."
   ]
  },
  {
   "cell_type": "code",
   "execution_count": 11,
   "id": "lucky-tumor",
   "metadata": {},
   "outputs": [
    {
     "name": "stdout",
     "output_type": "stream",
     "text": [
      "Pandit to Shweta : | trust you baby. This is my secret.\n",
      "Le fi\n",
      "\n",
      " \n",
      "\f",
      "\n"
     ]
    }
   ],
   "source": [
    "img5 = cv2.imread(\"5.png\")\n",
    "cv2.imshow(\"first image\", img5)\n",
    "cv2.waitKey(0)\n",
    "cv2.destroyAllWindows()\n",
    "\n",
    "text5 = pytesseract.image_to_string(img5)\n",
    "print(text5)"
   ]
  },
  {
   "cell_type": "markdown",
   "id": "knowing-mechanics",
   "metadata": {},
   "source": [
    "### Lets try for hand writing"
   ]
  },
  {
   "cell_type": "code",
   "execution_count": 13,
   "id": "enormous-collins",
   "metadata": {},
   "outputs": [
    {
     "name": "stdout",
     "output_type": "stream",
     "text": [
      " \n",
      "\n",
      " \n",
      "\n",
      " \n",
      "\n",
      " \n",
      "\n",
      " \n",
      "\n",
      " \n",
      "\n",
      " \n",
      "\n",
      " \n",
      "\n",
      " \n",
      "\n",
      " \n",
      "\n",
      " \n",
      "\n",
      " \n",
      "\n",
      " \n",
      "\n",
      " \n",
      "\n",
      " \n",
      "\n",
      " \n",
      "\n",
      " \n",
      "\n",
      " \n",
      "\n",
      " \n",
      "\n",
      " \n",
      "\n",
      " \n",
      "\n",
      " \n",
      "\n",
      " \n",
      "\n",
      " \n",
      "\n",
      " \n",
      "\f",
      "\n"
     ]
    }
   ],
   "source": [
    "img6 = cv2.imread(\"6.jpeg\")\n",
    "cv2.imshow(\"first image\", img6)\n",
    "cv2.waitKey(0)\n",
    "cv2.destroyAllWindows()\n",
    "\n",
    "text6 = pytesseract.image_to_string(img6)\n",
    "print(text6)"
   ]
  },
  {
   "cell_type": "markdown",
   "id": "approved-atlantic",
   "metadata": {},
   "source": [
    "### With some different font style"
   ]
  },
  {
   "cell_type": "code",
   "execution_count": 14,
   "id": "extra-filing",
   "metadata": {},
   "outputs": [
    {
     "name": "stdout",
     "output_type": "stream",
     "text": [
      "I managed eee tn\n",
      "\n",
      "oT\n",
      "Sapper ineae IS ashe\n",
      "OO tcmec se ie up indie tree they\n",
      "local.\n",
      "\n",
      "AVE\n",
      "Well, J stil haven't piched it up - because of\n",
      "conflicting scheduler, butJ finally gota chance\n",
      "ih thon the pont yet eae\n",
      "eno AD out they're nate about pena tov!\n",
      "to Leone the pen at-o place Jean\n",
      "ith th up, bet J was lhe, Wo way!*J wanna\n",
      "| tin person!’ ‘Ana they're FPNers tov.\n",
      "| Now J cant wait ta meet, and Drove ATPrLE 11\n",
      "i atest tiny yell\n",
      "\f",
      "\n"
     ]
    }
   ],
   "source": [
    "img7 = cv2.imread(\"7.jpg\")\n",
    "cv2.imshow(\"first image\", img7)\n",
    "cv2.waitKey(0)\n",
    "cv2.destroyAllWindows()\n",
    "\n",
    "text7 = pytesseract.image_to_string(img7)\n",
    "print(text7)"
   ]
  },
  {
   "cell_type": "code",
   "execution_count": null,
   "id": "indonesian-referral",
   "metadata": {},
   "outputs": [],
   "source": []
  }
 ],
 "metadata": {
  "kernelspec": {
   "display_name": "Python 3",
   "language": "python",
   "name": "python3"
  },
  "language_info": {
   "codemirror_mode": {
    "name": "ipython",
    "version": 3
   },
   "file_extension": ".py",
   "mimetype": "text/x-python",
   "name": "python",
   "nbconvert_exporter": "python",
   "pygments_lexer": "ipython3",
   "version": "3.6.8"
  }
 },
 "nbformat": 4,
 "nbformat_minor": 5
}
